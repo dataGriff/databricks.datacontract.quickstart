{
 "cells": [
  {
   "cell_type": "markdown",
   "metadata": {
    "application/vnd.databricks.v1+cell": {
     "cellMetadata": {},
     "inputWidgets": {},
     "nuid": "7681440f-cdaa-4d1e-ae5f-a41e7b459f82",
     "showTitle": false,
     "tableResultSettingsMap": {},
     "title": ""
    }
   },
   "source": [
    "# Whiskey Data Contract Quick Start"
   ]
  },
  {
   "cell_type": "markdown",
   "metadata": {
    "application/vnd.databricks.v1+cell": {
     "cellMetadata": {},
     "inputWidgets": {},
     "nuid": "8a423798-291d-4409-a547-e0840b6289df",
     "showTitle": false,
     "tableResultSettingsMap": {},
     "title": ""
    }
   },
   "source": [
    "## Desired Process\n",
    "\n",
    "Ideally each part of the process is as automated as much as possible.\n",
    "\n",
    "1. **Commit 1:** Design and complete data contract collaboratively.\n",
    "2. **Commit 2:** Register and share data contract in appropriate discoverable register.\n",
    "3. **Commit 3:** Implement the schema interface and test.\n",
    "4. **Commit 4:** Implement constraints on schema interface and test.\n",
    "5. **Commit 5:** Implement business logic and test.\n",
    "6. **Commit 6:** Release data product by granting access and publicising.\n"
   ]
  },
  {
   "cell_type": "markdown",
   "metadata": {
    "application/vnd.databricks.v1+cell": {
     "cellMetadata": {},
     "inputWidgets": {},
     "nuid": "4965a62e-b6a7-4a98-b079-7205833fca61",
     "showTitle": false,
     "tableResultSettingsMap": {},
     "title": ""
    }
   },
   "source": [
    "## Commit 1: Design and complete data contract collaboratively"
   ]
  },
  {
   "cell_type": "markdown",
   "metadata": {
    "application/vnd.databricks.v1+cell": {
     "cellMetadata": {},
     "inputWidgets": {},
     "nuid": "76c29040-8fe2-4bc1-84c5-1cff158f21c7",
     "showTitle": false,
     "tableResultSettingsMap": {},
     "title": ""
    }
   },
   "source": [
    "## **Commit 2:** Register and share data contract in appropriate discoverable register."
   ]
  },
  {
   "cell_type": "markdown",
   "metadata": {
    "application/vnd.databricks.v1+cell": {
     "cellMetadata": {},
     "inputWidgets": {},
     "nuid": "9811c9d9-263b-45aa-b7c7-da2fbf0b4d7e",
     "showTitle": false,
     "tableResultSettingsMap": {},
     "title": ""
    }
   },
   "source": [
    "## **Commit 3:** Implement the schema interface and test."
   ]
  },
  {
   "cell_type": "markdown",
   "metadata": {
    "application/vnd.databricks.v1+cell": {
     "cellMetadata": {},
     "inputWidgets": {},
     "nuid": "f1f7a8f6-08b2-40b5-82cc-8f312f508b1a",
     "showTitle": false,
     "tableResultSettingsMap": {},
     "title": ""
    }
   },
   "source": [
    "### Create schema which maps to data product"
   ]
  },
  {
   "cell_type": "code",
   "execution_count": 0,
   "metadata": {
    "application/vnd.databricks.v1+cell": {
     "cellMetadata": {
      "byteLimit": 2048000,
      "rowLimit": 10000
     },
     "inputWidgets": {},
     "nuid": "8180751e-5f89-469a-87e2-ee2ad397b174",
     "showTitle": false,
     "tableResultSettingsMap": {},
     "title": ""
    }
   },
   "outputs": [],
   "source": [
    "CREATE SCHEMA whiskey.inventory_v1;"
   ]
  },
  {
   "cell_type": "markdown",
   "metadata": {
    "application/vnd.databricks.v1+cell": {
     "cellMetadata": {},
     "inputWidgets": {},
     "nuid": "37d4fbfb-db6c-4441-baa1-b0f60f1884fe",
     "showTitle": false,
     "tableResultSettingsMap": {},
     "title": ""
    }
   },
   "source": [
    "### Create Models"
   ]
  },
  {
   "cell_type": "code",
   "execution_count": 0,
   "metadata": {
    "application/vnd.databricks.v1+cell": {
     "cellMetadata": {
      "byteLimit": 2048000,
      "rowLimit": 10000
     },
     "inputWidgets": {},
     "nuid": "af7afbdc-e63d-4f10-bda6-b5af4aff8d0f",
     "showTitle": false,
     "tableResultSettingsMap": {},
     "title": ""
    }
   },
   "outputs": [],
   "source": [
    "CREATE OR REPLACE TABLE whiskey.inventory_v1.distilleries\n",
    "(\n",
    "  distillery_name STRING,\n",
    "  distillery_country STRING,\n",
    "  --last_updated TIMESTAMP DEFAULT CURRENT_TIMESTAMP(),\n",
    "  CONSTRAINT distillery_name_pk PRIMARY KEY (distillery_name)\n",
    ");\n",
    "\n",
    "--ALTER TABLE whiskey.inventory_v1.distilleries SET TBLPROPERTIES ('delta.feature.allowColumnDefaults' = 'enabled');"
   ]
  },
  {
   "cell_type": "code",
   "execution_count": 0,
   "metadata": {
    "application/vnd.databricks.v1+cell": {
     "cellMetadata": {
      "byteLimit": 2048000,
      "rowLimit": 10000
     },
     "inputWidgets": {},
     "nuid": "6d2b7798-3c7d-44a2-822a-7fd8668ac5b0",
     "showTitle": false,
     "tableResultSettingsMap": {},
     "title": ""
    }
   },
   "outputs": [],
   "source": [
    "DESCRIBE DETAIL whiskey.inventory_v1.distilleries;"
   ]
  },
  {
   "cell_type": "code",
   "execution_count": 0,
   "metadata": {
    "application/vnd.databricks.v1+cell": {
     "cellMetadata": {
      "byteLimit": 2048000,
      "rowLimit": 10000
     },
     "inputWidgets": {},
     "nuid": "e0021544-e6d7-4082-bece-96b2e36882d2",
     "showTitle": false,
     "tableResultSettingsMap": {},
     "title": ""
    }
   },
   "outputs": [],
   "source": [
    "CREATE OR REPLACE TABLE whiskey.inventory_v1.whiskeys\n",
    "(\n",
    "  whiskey_name STRING NOT NULL ,\n",
    "  whiskey_type STRING NOT NULL,\n",
    "  whiskey_age INT NOT NULL,\n",
    "  distillery_name STRING NOT NULL,\n",
    "  distillery_country STRING NOT NULL,\n",
    "  --last_updated TIMESTAMP DEFAULT CURRENT_TIMESTAMP(),\n",
    "  CONSTRAINT distillery_name_fk FOREIGN KEY(distillery_name) REFERENCES whiskey.inventory_v1.distilleries\n",
    ")"
   ]
  },
  {
   "cell_type": "code",
   "execution_count": 0,
   "metadata": {
    "application/vnd.databricks.v1+cell": {
     "cellMetadata": {
      "byteLimit": 2048000,
      "rowLimit": 10000
     },
     "inputWidgets": {},
     "nuid": "fd1360ff-29bf-4ef6-b315-9f1d38a5ecea",
     "showTitle": false,
     "tableResultSettingsMap": {},
     "title": ""
    }
   },
   "outputs": [],
   "source": [
    "DESCRIBE DETAIL whiskey.inventory_v1.whiskeys;"
   ]
  },
  {
   "cell_type": "markdown",
   "metadata": {
    "application/vnd.databricks.v1+cell": {
     "cellMetadata": {},
     "inputWidgets": {},
     "nuid": "4aec3ccb-acaf-4daf-8aa6-9cf046e58e5b",
     "showTitle": false,
     "tableResultSettingsMap": {},
     "title": ""
    }
   },
   "source": [
    "### Test"
   ]
  },
  {
   "cell_type": "markdown",
   "metadata": {
    "application/vnd.databricks.v1+cell": {
     "cellMetadata": {},
     "inputWidgets": {},
     "nuid": "e08aff21-baab-4c62-b9bc-04780031ba6b",
     "showTitle": false,
     "tableResultSettingsMap": {},
     "title": ""
    }
   },
   "source": [
    "## **Commit 4:** Implement constraints on schema interface and test."
   ]
  },
  {
   "cell_type": "markdown",
   "metadata": {
    "application/vnd.databricks.v1+cell": {
     "cellMetadata": {},
     "inputWidgets": {},
     "nuid": "7361b887-466d-4f5a-b83f-3091bdf4899d",
     "showTitle": false,
     "tableResultSettingsMap": {},
     "title": ""
    }
   },
   "source": [
    "### Constraints Model 1"
   ]
  },
  {
   "cell_type": "code",
   "execution_count": 0,
   "metadata": {
    "application/vnd.databricks.v1+cell": {
     "cellMetadata": {
      "byteLimit": 2048000,
      "rowLimit": 10000
     },
     "inputWidgets": {},
     "nuid": "1993e321-679e-45e0-8734-6dd3d7764fa7",
     "showTitle": true,
     "tableResultSettingsMap": {},
     "title": "Constraints Distilleries"
    }
   },
   "outputs": [],
   "source": [
    "ALTER TABLE whiskey.inventory_v1.distilleries ADD CONSTRAINT distillery_name_chk CHECK (distillery_name IN ('Glenmorangie','Penderyn'));\n",
    "ALTER TABLE whiskey.inventory_v1.distilleries ADD CONSTRAINT distillery_country_chk CHECK (distillery_country IN ('Scotland','Wales'));"
   ]
  },
  {
   "cell_type": "markdown",
   "metadata": {
    "application/vnd.databricks.v1+cell": {
     "cellMetadata": {},
     "inputWidgets": {},
     "nuid": "cad4aa31-ae83-4849-9018-735dabe87495",
     "showTitle": false,
     "tableResultSettingsMap": {},
     "title": ""
    }
   },
   "source": [
    "### Constraints Model 2"
   ]
  },
  {
   "cell_type": "code",
   "execution_count": 0,
   "metadata": {
    "application/vnd.databricks.v1+cell": {
     "cellMetadata": {
      "byteLimit": 2048000,
      "rowLimit": 10000
     },
     "inputWidgets": {},
     "nuid": "4e3bfc95-6aed-4ff7-8547-1299e022e093",
     "showTitle": true,
     "tableResultSettingsMap": {},
     "title": "Constraints Whiskeys"
    }
   },
   "outputs": [],
   "source": [
    "ALTER TABLE whiskey.inventory_v1.whiskeys ADD CONSTRAINT whiskey_name_chk CHECK (whiskey_name IN ('Myth','Glenmorangie 12'));\n",
    "ALTER TABLE whiskey.inventory_v1.whiskeys ADD CONSTRAINT whiskey_type_chk CHECK (whiskey_type IN ('Single Malt','Blended'));\n",
    "ALTER TABLE whiskey.inventory_v1.whiskeys ADD CONSTRAINT whiskey_age_chk CHECK (whiskey_age BETWEEN 3 AND 100);\n",
    "\n",
    "ALTER TABLE whiskey.inventory_v1.whiskeys ADD CONSTRAINT distillery_name_chk CHECK (distillery_name IN ('Glenmorangie','Penderyn'));\n",
    "ALTER TABLE whiskey.inventory_v1.whiskeys ADD CONSTRAINT distillery_country_chk CHECK (distillery_name IN ('Scotland','Wales'));"
   ]
  },
  {
   "cell_type": "markdown",
   "metadata": {
    "application/vnd.databricks.v1+cell": {
     "cellMetadata": {},
     "inputWidgets": {},
     "nuid": "72e34cdd-1887-4831-8c52-06d87503c5d7",
     "showTitle": false,
     "tableResultSettingsMap": {},
     "title": ""
    }
   },
   "source": [
    "### Test"
   ]
  },
  {
   "cell_type": "code",
   "execution_count": 0,
   "metadata": {
    "application/vnd.databricks.v1+cell": {
     "cellMetadata": {
      "byteLimit": 2048000,
      "rowLimit": 10000
     },
     "inputWidgets": {},
     "nuid": "78d5d434-cdfb-4234-91ba-8d2e61806c09",
     "showTitle": true,
     "tableResultSettingsMap": {},
     "title": "Distilleries"
    }
   },
   "outputs": [],
   "source": [
    "%python\n",
    "def try_insert(sql_statement):\n",
    "    try:\n",
    "        spark.sql(sql_statement)\n",
    "        print(\"Insert succeeded.\")\n",
    "    except:\n",
    "        print(\"Insert failed.\")\n",
    "\n",
    "# Run inserts separately\n",
    "try_insert(\"\"\"\n",
    "    INSERT INTO whiskey.inventory_v1.distilleries (distillery_name, distillery_country)\n",
    "    VALUES ('Glenmorangie', 'Scotland')\n",
    "\"\"\")\n",
    "\n",
    "try_insert(\"\"\"\n",
    "    INSERT INTO whiskey.inventory_v1.distilleries (distillery_name, distillery_country)\n",
    "    VALUES ('Penderyn', 'Wales')\n",
    "\"\"\")\n",
    "\n",
    "try_insert(\"\"\"\n",
    "    INSERT INTO whiskey.inventory_v1.distilleries (distillery_name, distillery_country)\n",
    "    VALUES ('Guff', 'Guff')  -- known to violate constraints\n",
    "\"\"\")\n"
   ]
  },
  {
   "cell_type": "code",
   "execution_count": 0,
   "metadata": {
    "application/vnd.databricks.v1+cell": {
     "cellMetadata": {
      "byteLimit": 2048000,
      "rowLimit": 10000
     },
     "inputWidgets": {},
     "nuid": "4f2ca139-30a3-41c2-973c-a6cdf41b4de2",
     "showTitle": false,
     "tableResultSettingsMap": {},
     "title": ""
    }
   },
   "outputs": [],
   "source": [
    "%python\n",
    "def try_insert(sql_statement):\n",
    "    try:\n",
    "        spark.sql(sql_statement)\n",
    "        print(\"Insert succeeded.\")\n",
    "    except:\n",
    "        print(\"Insert failed.\")\n",
    "\n",
    "# Run inserts separately\n",
    "try_insert(\"\"\"\n",
    "    INSERT INTO whiskey.inventory_v1.whiskeys (whiskey_name, whiskey_age, whiskey_type, distillery_name, distillery_country)\n",
    "    VALUES ('Glenmorangie 12', 12, 'Single Malt', 'Glenmorangie', 'Scotland')\n",
    "\"\"\")\n",
    "\n",
    "try_insert(\"\"\"\n",
    "    INSERT INTO whiskey.inventory_v1.whiskeys (whiskey_name, whiskey_age, whiskey_type, distillery_name, distillery_country)\n",
    "    VALUES ('Myth', 5, 'Single Malt', 'Penderyn', 'Wales')\n",
    "\"\"\")\n",
    "\n",
    "try_insert(\"\"\"\n",
    "    INSERT INTO whiskey.inventory_v1.whiskeys (whiskey_name, whiskey_age, whiskey_type, distillery_name, distillery_country)\n",
    "    VALUES ('Invalid Whiskey', 10, 'Blended', 'Nonexistent Distillery', 'Nowhere')\n",
    "\"\"\")\n",
    "\n"
   ]
  },
  {
   "cell_type": "markdown",
   "metadata": {
    "application/vnd.databricks.v1+cell": {
     "cellMetadata": {},
     "inputWidgets": {},
     "nuid": "de766642-46d5-474b-bd63-e69ee235d764",
     "showTitle": false,
     "tableResultSettingsMap": {},
     "title": ""
    }
   },
   "source": [
    "## Gotchas\n",
    "\n",
    "1. Primary key and foreign key constraints are informational only."
   ]
  },
  {
   "cell_type": "markdown",
   "metadata": {
    "application/vnd.databricks.v1+cell": {
     "cellMetadata": {},
     "inputWidgets": {},
     "nuid": "7bd93106-56cf-470e-8eec-ba23943e2699",
     "showTitle": false,
     "tableResultSettingsMap": {},
     "title": ""
    }
   },
   "source": [
    "## Wishlist\n",
    "\n",
    "1. Isolate development environment such as a container.\n",
    "2. Declaratively publish schema interface (pulumi?).\n",
    "2. Ensure domain driven design carried out to discover domains and services.\n",
    "3. Ensure that the data product mapped to the schema is geared towards a value and not an entity.\n",
    "4. Cross field validation checks e.g. Penderyn only in Wales - unit test?\n",
    "5. Modularise constraint testing if repeated across models.\n",
    "6. Low resourced prevention of duplicates.\n",
    "7. Action commands to interface with schema akin to POST, READ etc so goes through this logic to interact with data products.\n",
    "8. Prevent all reads other than via correct POST action - does this mean expose views only for READ and have appropriate functions for POST?\n",
    "10. Default ability before create table."
   ]
  }
 ],
 "metadata": {
  "application/vnd.databricks.v1+notebook": {
   "computePreferences": null,
   "dashboards": [],
   "environmentMetadata": {
    "base_environment": "",
    "environment_version": "2"
   },
   "language": "sql",
   "notebookMetadata": {
    "pythonIndentUnit": 4
   },
   "notebookName": "whiskey.datacontract.quickstart",
   "widgets": {}
  },
  "language_info": {
   "name": "sql"
  }
 },
 "nbformat": 4,
 "nbformat_minor": 0
}
